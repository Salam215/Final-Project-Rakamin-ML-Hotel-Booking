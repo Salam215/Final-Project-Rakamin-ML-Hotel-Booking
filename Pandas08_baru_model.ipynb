{
 "cells": [
  {
   "cell_type": "markdown",
   "id": "b5a60893-f0d4-4509-8e3c-111711a2c29f",
   "metadata": {
    "id": "b5a60893-f0d4-4509-8e3c-111711a2c29f"
   },
   "source": [
    "#Tambahkan value aneh, dengan menggunakan .unique\n",
    "object sama string beda\n",
    "agent lebih baik diganti menjadi string\n",
    "stage 1 nggak papa mengubah tipe data\n",
    "Undefined meal jadi NAN\n",
    "Reservation status date di cacah jadi tanggal, bulan, tahun\n",
    "Email : gmail dll\n",
    "Credit card dicacah coba dicari maknanya\n",
    "Pemodelan pilih fitur yang korelasi tinggi dengan target (lebih dari 0.7 atau kurang dari 0.7)\n",
    "Feature selection\n",
    "anova f test: feature numeric, target categoric\n",
    "chi square: feature categoric, terget categoric\n",
    "\n",
    "Kategorik\n",
    "ordinal ada ranking\n",
    "nominal setara\n",
    "\n",
    "Distribusi\n",
    "Ditentukan, lalu handling\n",
    "\n",
    "Point statement\n",
    "Treatment nya\n",
    "\n",
    "Outlier pakai IQR\n",
    "\n",
    "Feature transformation\n",
    "\n",
    "assigned room type apakah available?"
   ]
  },
  {
   "cell_type": "code",
   "execution_count": null,
   "id": "mgxlQWvCExXR",
   "metadata": {},
   "outputs": [],
   "source": [
    "#from google.colab import drive\n",
    "#drive.mount('/content/drive')"
   ]
  },
  {
   "cell_type": "code",
   "execution_count": 14,
   "id": "f980b93d-d73c-49e9-ab11-f4ad36fde414",
   "metadata": {
    "id": "f980b93d-d73c-49e9-ab11-f4ad36fde414"
   },
   "outputs": [
    {
     "name": "stdout",
     "output_type": "stream",
     "text": [
      "Requirement already satisfied: category_encoders in c:\\users\\lenovo\\anaconda3\\lib\\site-packages (2.5.1.post0)\n",
      "Requirement already satisfied: statsmodels>=0.9.0 in c:\\users\\lenovo\\anaconda3\\lib\\site-packages (from category_encoders) (0.12.2)\n",
      "Requirement already satisfied: patsy>=0.5.1 in c:\\users\\lenovo\\anaconda3\\lib\\site-packages (from category_encoders) (0.5.2)\n",
      "Requirement already satisfied: scipy>=1.0.0 in c:\\users\\lenovo\\anaconda3\\lib\\site-packages (from category_encoders) (1.7.1)\n",
      "Requirement already satisfied: scikit-learn>=0.20.0 in c:\\users\\lenovo\\anaconda3\\lib\\site-packages (from category_encoders) (1.1.3)\n",
      "Requirement already satisfied: numpy>=1.14.0 in c:\\users\\lenovo\\anaconda3\\lib\\site-packages (from category_encoders) (1.20.3)\n",
      "Requirement already satisfied: pandas>=1.0.5 in c:\\users\\lenovo\\anaconda3\\lib\\site-packages (from category_encoders) (1.3.4)\n",
      "Requirement already satisfied: pytz>=2017.3 in c:\\users\\lenovo\\anaconda3\\lib\\site-packages (from pandas>=1.0.5->category_encoders) (2021.3)\n",
      "Requirement already satisfied: python-dateutil>=2.7.3 in c:\\users\\lenovo\\anaconda3\\lib\\site-packages (from pandas>=1.0.5->category_encoders) (2.8.2)\n",
      "Requirement already satisfied: six in c:\\users\\lenovo\\anaconda3\\lib\\site-packages (from patsy>=0.5.1->category_encoders) (1.16.0)\n",
      "Requirement already satisfied: threadpoolctl>=2.0.0 in c:\\users\\lenovo\\anaconda3\\lib\\site-packages (from scikit-learn>=0.20.0->category_encoders) (2.2.0)\n",
      "Requirement already satisfied: joblib>=1.0.0 in c:\\users\\lenovo\\anaconda3\\lib\\site-packages (from scikit-learn>=0.20.0->category_encoders) (1.1.0)\n"
     ]
    }
   ],
   "source": [
    "#import library FP\n",
    "import pandas as pd\n",
    "import matplotlib.pyplot as plt\n",
    "import seaborn as sns\n",
    "import numpy as np\n",
    "from scipy import stats\n",
    "from sklearn.preprocessing import MinMaxScaler, StandardScaler\n",
    "\n",
    "# VIF\n",
    "from statsmodels.stats.outliers_influence import variance_inflation_factor\n",
    "\n",
    "# Normality test\n",
    "from scipy.stats import shapiro\n",
    "from scipy.stats import normaltest\n",
    "\n",
    "# Preprocessing\n",
    "from sklearn.preprocessing import StandardScaler\n",
    "from sklearn.preprocessing import PowerTransformer\n",
    "from sklearn.impute import KNNImputer, SimpleImputer\n",
    "from sklearn.pipeline import Pipeline\n",
    "from sklearn.compose import ColumnTransformer\n",
    "from sklearn.model_selection import train_test_split\n",
    "from sklearn.preprocessing import OrdinalEncoder, OneHotEncoder\n",
    "!pip install category_encoders\n",
    "import category_encoders as ce\n",
    "from sklearn.neighbors import KNeighborsClassifier\n",
    "\n",
    "# Model\n",
    "import xgboost as xgb\n",
    "import statsmodels.api as sm \n",
    "\n",
    "# Cross Validation\n",
    "from sklearn.model_selection import cross_val_score\n",
    "from sklearn.model_selection import cross_validate\n",
    "\n",
    "# Hyperparameter tuning\n",
    "from sklearn.model_selection import GridSearchCV, RandomizedSearchCV\n",
    "\n",
    "#model\n",
    "from sklearn.linear_model import LogisticRegression\n",
    "from sklearn.ensemble import RandomForestClassifier,ExtraTreesClassifier\n",
    "from sklearn.tree import DecisionTreeClassifier\n",
    "from xgboost import XGBClassifier\n",
    "from sklearn.naive_bayes import GaussianNB\n",
    "from sklearn.metrics import roc_auc_score, roc_curve, RocCurveDisplay, precision_recall_curve, PrecisionRecallDisplay\n",
    "from sklearn import metrics\n",
    "from sklearn.metrics import confusion_matrix\n",
    "from sklearn.tree import DecisionTreeClassifier"
   ]
  },
  {
   "cell_type": "code",
   "execution_count": 2,
   "id": "d495fe1f-bfde-49c5-9ad6-a64bf4fb15ff",
   "metadata": {
    "id": "d495fe1f-bfde-49c5-9ad6-a64bf4fb15ff"
   },
   "outputs": [],
   "source": [
    "#Target merupakan cancelation rate (is_canceled)\n",
    "df = pd.read_csv(\"hotel_booking.csv\") #Load original dataset\n",
    "pd.set_option(\"display.max_columns\", None)\n",
    "#copy data for backup\n",
    "df2 = df.copy()"
   ]
  },
  {
   "cell_type": "raw",
   "id": "bece70f5-724c-4216-adbe-5c1a9739ae4d",
   "metadata": {
    "id": "bece70f5-724c-4216-adbe-5c1a9739ae4d"
   },
   "source": [
    "Stage 1 EDA (Exploratory Data Analysis)"
   ]
  },
  {
   "cell_type": "markdown",
   "id": "2bfab531-0043-49da-a301-85c458166278",
   "metadata": {
    "id": "2bfab531-0043-49da-a301-85c458166278"
   },
   "source": [
    "1. Pengecekan kesesuaian data"
   ]
  },
  {
   "cell_type": "code",
   "execution_count": null,
   "id": "57484506-ab09-4452-9b85-acc18b2f34e3",
   "metadata": {
    "id": "57484506-ab09-4452-9b85-acc18b2f34e3",
    "outputId": "d07609c8-bf70-4411-ea4d-425a79171d18"
   },
   "outputs": [],
   "source": [
    "#Mengecek kesesuaian tipe data tiap kolom\n",
    "df.info()"
   ]
  },
  {
   "cell_type": "code",
   "execution_count": null,
   "id": "10ac56c9-2020-4063-a35d-340e01b58eba",
   "metadata": {
    "id": "10ac56c9-2020-4063-a35d-340e01b58eba",
    "outputId": "51a9ea46-e849-4e12-8bfe-469f5ac32678"
   },
   "outputs": [],
   "source": [
    "#Mengecek kesesuaian tipe data tiap kolom\n",
    "df.describe()"
   ]
  },
  {
   "cell_type": "markdown",
   "id": "94890c48-c4f3-44e9-aa55-e646563d5f36",
   "metadata": {
    "id": "94890c48-c4f3-44e9-aa55-e646563d5f36"
   },
   "source": [
    "Dari hasil di df.info(), terlihat bahwa terdapat beberapa tidak kesesuaian data:\n",
    "a. Kolom “is_cancelled”, “is_repeated_guest”, ”previous_cancellations”, “previous_bookings_not_canceled” lebih tepat jika tipe datanya boolean\n",
    "b. Kolom “children”,’’agent”,”company” akan lebih tepat menggunakan tipe data integer\n",
    "c. Kolom “reservation_status_date” mempunyai data type berupa object, namun lebih tepat bila menggunakan tipe data datetime"
   ]
  },
  {
   "cell_type": "code",
   "execution_count": null,
   "id": "1bbc45ee-b591-478f-9d73-e81108819137",
   "metadata": {
    "id": "1bbc45ee-b591-478f-9d73-e81108819137",
    "outputId": "a5c0ee68-3a8a-4a0f-f163-80d88514b42d"
   },
   "outputs": [],
   "source": [
    "#Mengecek adanya nilai 0 di kolom\n",
    "df.isna().sum()"
   ]
  },
  {
   "cell_type": "markdown",
   "id": "6842a453-e87f-4232-99a0-f3f32fed7e36",
   "metadata": {
    "id": "6842a453-e87f-4232-99a0-f3f32fed7e36"
   },
   "source": [
    "Kolom country, children, agent, dan company memiliki nilai null"
   ]
  },
  {
   "cell_type": "markdown",
   "id": "52540442-52db-4f2b-b1fa-98094f38a929",
   "metadata": {
    "id": "52540442-52db-4f2b-b1fa-98094f38a929"
   },
   "source": [
    "Dari hasil command df.describe(), tidak terlihat adanya nilai aneh dari kolom kolom. Semua parameter statistik deskriptif terlihat normal"
   ]
  },
  {
   "cell_type": "markdown",
   "id": "d3b8b2d8-b0f3-4b9a-9e1b-c200f7131ae7",
   "metadata": {
    "id": "d3b8b2d8-b0f3-4b9a-9e1b-c200f7131ae7"
   },
   "source": [
    "2. Univariate Analysis untuk melihat distribusi masing masing kolom"
   ]
  },
  {
   "cell_type": "markdown",
   "id": "ae893049-5050-4750-9b1a-9bcdd3559eac",
   "metadata": {
    "id": "ae893049-5050-4750-9b1a-9bcdd3559eac"
   },
   "source": [
    "Dari kolom kolom yang ada dikelompokan terlebih dahulu, mana kolom yang numerik, dan kategorikal untuk menghindari grafik distribusi yang tidak sesuai "
   ]
  },
  {
   "cell_type": "code",
   "execution_count": 3,
   "id": "d46c654b-9baa-418a-9afc-f6b0b562f0d3",
   "metadata": {
    "id": "d46c654b-9baa-418a-9afc-f6b0b562f0d3"
   },
   "outputs": [],
   "source": [
    "#Pengelompokan kolom kolom numerik, dan kategorikal\n",
    "numeric = ['lead_time','arrival_date_year', 'arrival_date_week_number','arrival_date_day_of_month', 'stays_in_weekend_nights','stays_in_week_nights',\n",
    "           'adults','children','babies','booking_changes', 'days_in_waiting_list','adr','required_car_parking_spaces','total_of_special_requests']\n",
    "\n",
    "categorical = ['hotel','is_canceled','arrival_date_month','meal','country','market_segment','distribution_channel','is_repeated_guest',\n",
    "               'previous_cancellations','previous_bookings_not_canceled','reserved_room_type','assigned_room_type','deposit_type','agent','company',\n",
    "               'customer_type','reservation_status','reservation_status_date','name','email','phone-number','credit_card']\n",
    "\n",
    "#Setelah melihat dataset kaggle, kami mengambil kesimpulan bahwa agent, dan kompany merupakan sebuah id sehingga dimasukkan dalam tipe kategorikal       "
   ]
  },
  {
   "cell_type": "markdown",
   "id": "02158fd3-1765-4c64-9aa2-860026e14212",
   "metadata": {
    "id": "02158fd3-1765-4c64-9aa2-860026e14212"
   },
   "source": [
    "Univariate analysis akan dilakukan pada kolom kolom numerical"
   ]
  },
  {
   "cell_type": "code",
   "execution_count": null,
   "id": "c3e0efb6-571e-4459-bd54-52abbc57b3b7",
   "metadata": {
    "id": "c3e0efb6-571e-4459-bd54-52abbc57b3b7",
    "outputId": "b84daeff-b8d6-4836-893d-debc17bed57f"
   },
   "outputs": [],
   "source": [
    "plt.figure(figsize=(15, 10))\n",
    "for i in range(0, len(numeric)):\n",
    "    plt.subplot(4, 4, i+1)\n",
    "    sns.boxplot(y=df[numeric[i]], color='gray', orient='v')\n",
    "    plt.tight_layout()"
   ]
  },
  {
   "cell_type": "code",
   "execution_count": null,
   "id": "7a94bbc1-9df1-479b-9374-4d825175fd6c",
   "metadata": {
    "id": "7a94bbc1-9df1-479b-9374-4d825175fd6c",
    "outputId": "f8a2919c-be15-487a-d696-db112899f9d7"
   },
   "outputs": [],
   "source": [
    "plt.figure(figsize=(15, 10))\n",
    "for i in range(0, len(numeric)):\n",
    "    plt.subplot(4, 4, i+1)\n",
    "    sns.distplot(df[numeric[i]], color='gray')\n",
    "    plt.tight_layout()"
   ]
  },
  {
   "cell_type": "code",
   "execution_count": null,
   "id": "36eaa014-edea-4374-9663-6455f49d576d",
   "metadata": {
    "id": "36eaa014-edea-4374-9663-6455f49d576d",
    "outputId": "fd9e2c26-09c9-49c4-f7c2-a4b5062caf55"
   },
   "outputs": [],
   "source": [
    "plt.figure(figsize=(15, 10))\n",
    "for i in range(0, len(numeric)):\n",
    "    plt.subplot(4, 4, i+1)\n",
    "    sns.violinplot(y=df[numeric[i]], color='gray', orient='v')\n",
    "    plt.tight_layout()"
   ]
  },
  {
   "cell_type": "markdown",
   "id": "8a99f108-019e-43c4-bbed-92b5a8359910",
   "metadata": {
    "id": "8a99f108-019e-43c4-bbed-92b5a8359910"
   },
   "source": [
    "a.  Kolom “stays_in_week_nights”, “stays_in_weekend_nights”, ”stay_duration”\n",
    "    mempunyai distribusi positively skewed. (Melihat bentuk box plot, distribution\n",
    "    plot, dan violin plot). Langkah selanjutnya adalah melakukan menormalkan\n",
    "    distribusi data, metode yang digunakan bisa menggunakan Log\n",
    "    transformation, dll. Setelah distribusi data menjadi normal, selanjutnya kita\n",
    "    lakukan feature scaling bisa berupa Min-max scaler, standard scaler, dan\n",
    "    robust scaler, dll.\n",
    "b. Terdapat beberapa kolom yang memiliki outliers, seperti kolom\n",
    "   “total_of_special_requests”, “required_car_parking_spaces”, “children”,\n",
    "   “babies”, “adults”. Dari box plot, terdapat beberapa jenis outlier seperti global\n",
    "   outlier dan collective outlier. Untuk pemodelan, biasanya kita membuang\n",
    "   global outlier (outlier yang sangat ekstrem), sementara kita membiarkan\n",
    "   collective outlier tetap ada.\n",
    "c. Terdapat beberapa nilai yang mendominasi, contohnya nilai 0 pada kolom\n",
    "   “babies”, 0 pada kolom children, “stay duration” yang mendominasi tidak lebih\n",
    "   dari 10 hari, dll."
   ]
  },
  {
   "cell_type": "markdown",
   "id": "60ae7335-c921-47cb-a05f-2073a55da940",
   "metadata": {
    "id": "60ae7335-c921-47cb-a05f-2073a55da940"
   },
   "source": [
    "3. Multivariate Analysis"
   ]
  },
  {
   "cell_type": "code",
   "execution_count": null,
   "id": "9d39da9f-438a-4d1e-91e9-42a32e5a918f",
   "metadata": {
    "id": "9d39da9f-438a-4d1e-91e9-42a32e5a918f",
    "outputId": "4c3bce47-be08-45a2-b75b-5a65a2cbcf62"
   },
   "outputs": [],
   "source": [
    "#Dilakukan correlation untuk tiap2 kolom untuk mencari kolom yang paling tepat untuk dijadikan feature\n",
    "plt.figure(figsize=(10,8))\n",
    "sns.heatmap(df.corr(),annot=True)\n",
    "plt.show()"
   ]
  },
  {
   "cell_type": "markdown",
   "id": "69d1a3bc-2905-4d85-be31-f9d58cf69c6b",
   "metadata": {
    "id": "69d1a3bc-2905-4d85-be31-f9d58cf69c6b"
   },
   "source": [
    "Untuk korelasi antara feature dan label (“is_cancelled”) tidak memiliki korelasi yang kuat. Adapun feature yang bertipe numerik ternyata berupa ID, yaitu “Agent”, ”company”. Kolom tersebut direkomendasikan untuk didrop sementara feature yang lain masih relevan untuk eksplorasi lebih lanjut"
   ]
  },
  {
   "cell_type": "markdown",
   "id": "9675199c-1300-45a2-9f92-b82a377e01e2",
   "metadata": {
    "id": "9675199c-1300-45a2-9f92-b82a377e01e2"
   },
   "source": [
    "Dari correlation heatmap, kita dapat memperoleh korelasi antar feature. Jika korelasi > 0.7 artinya terdapat hubungan 2 feature yang menandakan\n",
    "multikolinieritas/redundan sehingga salah satu feature harus dibuang. Pada diagram heatmap diperoleh bahwa fitur yang menunjukkan kolom stay berkorelasi > 0.7. Selain itu, feature yang menunjukkan guest juga berkorelasi >0.7"
   ]
  },
  {
   "cell_type": "markdown",
   "id": "97005d9c-d3a1-47c5-a6af-b9779ba720cc",
   "metadata": {
    "id": "97005d9c-d3a1-47c5-a6af-b9779ba720cc"
   },
   "source": [
    "4. Business Insights"
   ]
  },
  {
   "cell_type": "markdown",
   "id": "67488e6d-b2e9-4c2d-97f8-78938770a842",
   "metadata": {
    "id": "67488e6d-b2e9-4c2d-97f8-78938770a842"
   },
   "source": [
    "Terdapat beberapa insight yang dapat diambil seperti:"
   ]
  },
  {
   "cell_type": "code",
   "execution_count": null,
   "id": "81c46691-971b-4d2c-a73b-0ab6ee5b0340",
   "metadata": {
    "id": "81c46691-971b-4d2c-a73b-0ab6ee5b0340",
    "outputId": "b3f7afa1-9d5c-4e10-fa82-48f072c2c813"
   },
   "outputs": [],
   "source": [
    "# Durasi stay pelanggan kurang dari 10 hari\n",
    "# sns.set_style('whitegrid')\n",
    "# sns.set(rc={'figure.figsize':(10,10)})\n",
    "# sns.catplot(x= df['stays_in_weekend_nights'] + df['stays_in_week_nights'],\n",
    "#             data=df, \n",
    "#             kind=\"count\",height = 10, aspect = 2)"
   ]
  },
  {
   "cell_type": "markdown",
   "id": "3cabf3e4-8c87-4edc-a17c-348b6cbf2083",
   "metadata": {
    "id": "3cabf3e4-8c87-4edc-a17c-348b6cbf2083"
   },
   "source": [
    "Dari hal ini pihak hotel dapat memfokuskan usaha pada pelanggan yang melakukan short stay duration saja. Misal, melakukan promo tambahan\n",
    "breakfast dan lunch pada pelanggan yang hanya stay selama 2 hari dengan tambahan biaya, sehingga dapat memaksimalkan profit."
   ]
  },
  {
   "cell_type": "code",
   "execution_count": null,
   "id": "892a7fae-2490-4391-905e-a4f4ca9f259e",
   "metadata": {
    "id": "892a7fae-2490-4391-905e-a4f4ca9f259e",
    "outputId": "140c1aae-f2ac-493e-a8ae-0d46e0f69513"
   },
   "outputs": [],
   "source": [
    "# #Pelanggan tidak banyak menggunakan mobil untuk stay\n",
    "# sns.set_style('whitegrid')\n",
    "# sns.set(rc={'figure.figsize':(10,10)})\n",
    "# sns.catplot(x='required_car_parking_spaces', \n",
    "#             data=df, \n",
    "#             kind=\"count\",height = 5, aspect = 2)"
   ]
  },
  {
   "cell_type": "markdown",
   "id": "07099100-8064-4c6d-86a6-37232bc1bfef",
   "metadata": {
    "id": "07099100-8064-4c6d-86a6-37232bc1bfef"
   },
   "source": [
    "Hal ini dapat menjadi peluang bisnis bagi pihak hotel untuk menyediakan moda transportasi untuk pelanggan hotel yang ingin berwisata, maupun pergi\n",
    "menuju ke airport, atau bandara (Bisa menyediakan jasa sewa sopir)"
   ]
  },
  {
   "cell_type": "markdown",
   "id": "7dc16a9d-04c6-40fc-9f19-b90a5e2f0de7",
   "metadata": {
    "id": "7dc16a9d-04c6-40fc-9f19-b90a5e2f0de7"
   },
   "source": [
    "Stage 2 Preprocessing"
   ]
  },
  {
   "cell_type": "markdown",
   "id": "ef80f1a9-b355-40fa-a65e-1c9fddcd01c3",
   "metadata": {
    "id": "ef80f1a9-b355-40fa-a65e-1c9fddcd01c3"
   },
   "source": [
    "1. Data Cleansing"
   ]
  },
  {
   "cell_type": "code",
   "execution_count": 4,
   "id": "9fefaccb-9a7d-4883-800e-9ff713e4aecd",
   "metadata": {
    "id": "9fefaccb-9a7d-4883-800e-9ff713e4aecd"
   },
   "outputs": [],
   "source": [
    "## Handling missing values\n",
    "# Nilai null di column 'children' mungkin keluarga tidak mempunyai anak\n",
    "df['children'] = df['children'].fillna(0)\n",
    "# Dari kaggle dataset column 'agent', dan 'company' merupakan sebuah id. \n",
    "#Sehingga null value, kemungkinan memiliki arti bahwa pengunjung tidak memesan melalui 'agent' dan 'company' sehingga dimasukkan 0 \n",
    "df['agent'] = df['agent'].fillna(0)\n",
    "df['company'] = df['company'].fillna(0)\n",
    "# Dari kaggle dataset column 'country' merupakan singkatan nama negara.\n",
    "# Maka null kemungkinan berarti tidak punya negara maka null akan di isi 'NON' yang berarti tidak punya kewarganegaraan\n",
    "df['country'] = df['country'].fillna('NON')"
   ]
  },
  {
   "cell_type": "code",
   "execution_count": 5,
   "id": "36f8715f-e190-4ed7-9bee-f0f02e9b7a29",
   "metadata": {
    "id": "36f8715f-e190-4ed7-9bee-f0f02e9b7a29",
    "outputId": "29cdaae5-c892-48ae-efe2-3ea95b990db9"
   },
   "outputs": [
    {
     "name": "stdout",
     "output_type": "stream",
     "text": [
      "Baris dengan data duplikat: 0\n"
     ]
    }
   ],
   "source": [
    "#Mengecek data duplikat\n",
    "print('Baris dengan data duplikat:', df.duplicated().sum())"
   ]
  },
  {
   "cell_type": "code",
   "execution_count": 6,
   "id": "68a09186-b875-426b-8136-a450d1ca4964",
   "metadata": {
    "id": "68a09186-b875-426b-8136-a450d1ca4964"
   },
   "outputs": [],
   "source": [
    "#Memperbaiki tipe data\n",
    "df['children'] = df['children'].astype('int64')\n",
    "df['agent'] = df['agent'].astype('int64')\n",
    "df['company'] = df['company'].astype('int64')\n",
    "df['reservation_status_date'] = pd.to_datetime(df['reservation_status_date'])"
   ]
  },
  {
   "cell_type": "code",
   "execution_count": null,
   "id": "477334cf-0774-4913-a35e-77c7746b31fa",
   "metadata": {
    "id": "477334cf-0774-4913-a35e-77c7746b31fa",
    "outputId": "2bd3edf4-ebba-49ac-898f-aaafbb1cc530"
   },
   "outputs": [],
   "source": [
    "#Mengecek nilai aneh di kolom meal\n",
    "df['meal'].unique()"
   ]
  },
  {
   "cell_type": "code",
   "execution_count": null,
   "id": "f300b264-3bf4-4e75-bb01-20dd40e605b0",
   "metadata": {
    "id": "f300b264-3bf4-4e75-bb01-20dd40e605b0",
    "outputId": "78be8bfd-b4ee-4419-b0ae-aa452d4c7bc6"
   },
   "outputs": [],
   "source": [
    "# Mengganti Undefined meal sebagai missing Values NAN\n",
    "df['meal'] = df['meal'].replace(['Undefined'], 'NAN')\n",
    "df['meal'].value_counts()"
   ]
  },
  {
   "cell_type": "code",
   "execution_count": 7,
   "id": "70654f79-63c4-4572-bcca-5a7f5287efba",
   "metadata": {
    "id": "70654f79-63c4-4572-bcca-5a7f5287efba",
    "outputId": "c9430df2-725e-42fd-cf36-55f9aa4f5b67"
   },
   "outputs": [
    {
     "name": "stdout",
     "output_type": "stream",
     "text": [
      "Jumlah baris sebelum memfilter outlier: 119390\n",
      "Jumlah baris setelah memfilter outlier: 98480\n"
     ]
    }
   ],
   "source": [
    "# #Handle outlier\n",
    "print(f'Jumlah baris sebelum memfilter outlier: {len(df)}')\n",
    "filtered_entries = np.array([True] * len(df))\n",
    "\n",
    "for col in numeric:\n",
    "    zscore = abs(stats.zscore(df[col])) # hitung absolute z-scorenya\n",
    "    filtered_entries = (zscore < 3) & filtered_entries # keep yang kurang dari 3 absolute z-scorenya\n",
    "    \n",
    "df = df[filtered_entries] # filter, cuma ambil yang z-scorenya dibawah 3\n",
    "\n",
    "print(f'Jumlah baris setelah memfilter outlier: {len(df)}')"
   ]
  },
  {
   "cell_type": "code",
   "execution_count": 8,
   "id": "163ee79c-91c2-465b-87da-0315e7490a76",
   "metadata": {
    "id": "163ee79c-91c2-465b-87da-0315e7490a76",
    "outputId": "07458279-c6bb-4b81-a947-b4e8261a99da"
   },
   "outputs": [
    {
     "name": "stdout",
     "output_type": "stream",
     "text": [
      "Data with 0 guest: 0 out of 98480 all data\n",
      "Data with 0 night: 590 out of 98480 all data\n",
      "before pre-processing: 98480\n",
      "after pre-processing: 97890\n"
     ]
    }
   ],
   "source": [
    "# Menghilangkan data yang bernilai 0 guest, dan 0 malam\n",
    "# Melakukan feature ekstrasi berupa, pembuatan kolom baru total guest, dan stay duration\n",
    "df['total_guests'] = df['adults'] + df['children'] + df['babies']\n",
    "print('Data with 0 guest: {0} out of {1} all data'.format(df[df['total_guests'] == 0].shape[0], df.shape[0]))\n",
    "df['stay_duration'] = df['stays_in_weekend_nights'] + df['stays_in_week_nights']\n",
    "print('Data with 0 night: {0} out of {1} all data'.format(df[df['stay_duration'] == 0].shape[0], df.shape[0]))\n",
    "# Pembuatan df baru untuk data yang telah dipre process\n",
    "df_clean = df[(df['total_guests'] > 0) & (df['stay_duration'] > 0)].copy()\n",
    "\n",
    "print('before pre-processing:', df.shape[0])\n",
    "print('after pre-processing:', df_clean.shape[0])"
   ]
  },
  {
   "cell_type": "code",
   "execution_count": 9,
   "id": "0e2759dc-01aa-4181-993b-aa47b0abdff1",
   "metadata": {
    "id": "0e2759dc-01aa-4181-993b-aa47b0abdff1"
   },
   "outputs": [],
   "source": [
    "#Mengedrop kolom tdk berguna di dataset\n",
    "df_clean = df_clean.drop(columns = ['adults','children','babies','stays_in_weekend_nights','stays_in_week_nights'])"
   ]
  },
  {
   "cell_type": "code",
   "execution_count": null,
   "id": "71434a07-b62b-4404-a076-1c083bb0f0fc",
   "metadata": {
    "id": "71434a07-b62b-4404-a076-1c083bb0f0fc",
    "outputId": "7ab21134-0517-4e08-a487-ce0ef0a8e83d"
   },
   "outputs": [],
   "source": [
    "df_clean.info()"
   ]
  },
  {
   "cell_type": "code",
   "execution_count": null,
   "id": "31c54eb5-8791-446a-8f61-24be47f55b9f",
   "metadata": {},
   "outputs": [],
   "source": [
    "df_clean"
   ]
  },
  {
   "cell_type": "code",
   "execution_count": 10,
   "id": "04c700ee-2a83-4ce8-9fe0-aabce31b4a02",
   "metadata": {
    "id": "04c700ee-2a83-4ce8-9fe0-aabce31b4a02"
   },
   "outputs": [],
   "source": [
    "#Menyimpan ke csv file baru\n",
    "df_clean.to_csv('Data_Hotel_Cleaning.csv', index=False)"
   ]
  },
  {
   "cell_type": "markdown",
   "id": "QoXmhZ4pGGxn",
   "metadata": {
    "id": "QoXmhZ4pGGxn"
   },
   "source": [
    "#df_baru"
   ]
  },
  {
   "cell_type": "code",
   "execution_count": 3,
   "id": "b175ed0d-ed75-48fb-aac1-2a612b150447",
   "metadata": {
    "id": "b175ed0d-ed75-48fb-aac1-2a612b150447"
   },
   "outputs": [],
   "source": [
    "#Meload df baru\n",
    "df_baru = pd.read_csv(\"Data_Hotel_Cleaning.csv\")"
   ]
  },
  {
   "cell_type": "code",
   "execution_count": 4,
   "id": "3c33dfee-bb59-4451-9bc9-fe272e0b0f0b",
   "metadata": {
    "id": "3c33dfee-bb59-4451-9bc9-fe272e0b0f0b"
   },
   "outputs": [],
   "source": [
    "#Pembuatan backup df\n",
    "df_backup = df_baru.copy()"
   ]
  },
  {
   "cell_type": "code",
   "execution_count": null,
   "id": "1ea25a23-34bb-4f4f-8601-74205a10fc6f",
   "metadata": {},
   "outputs": [],
   "source": [
    "pd.set_option(\"display.max_columns\", None)\n",
    "df_baru"
   ]
  },
  {
   "cell_type": "code",
   "execution_count": null,
   "id": "228d6fdc-58bc-477f-86a9-fb888e44881c",
   "metadata": {},
   "outputs": [],
   "source": [
    "df_baru['reservation_status'].unique()"
   ]
  },
  {
   "cell_type": "code",
   "execution_count": 5,
   "id": "064f1fc6-0e57-4b11-8618-194a6c11af54",
   "metadata": {},
   "outputs": [],
   "source": [
    "column_to_delete = ['credit_card','phone-number','name','agent','company','email','reservation_status_date','required_car_parking_spaces'\n",
    "                    ,'assigned_room_type','reserved_room_type','distribution_channel','market_segment','country', 'meal','arrival_date_day_of_month',\n",
    "                    'arrival_date_week_number','arrival_date_month','arrival_date_year']"
   ]
  },
  {
   "cell_type": "code",
   "execution_count": 6,
   "id": "20cb8979-e336-4078-9ca6-632282acba9f",
   "metadata": {},
   "outputs": [],
   "source": [
    "df_baru = df_baru.drop(column_to_delete,axis=1)"
   ]
  },
  {
   "cell_type": "code",
   "execution_count": 7,
   "id": "9376b7e7-d8ff-4fea-b8bf-bb4b41f1eae5",
   "metadata": {},
   "outputs": [
    {
     "data": {
      "text/plain": [
       "(97890, 15)"
      ]
     },
     "execution_count": 7,
     "metadata": {},
     "output_type": "execute_result"
    }
   ],
   "source": [
    "df_baru.shape"
   ]
  },
  {
   "cell_type": "code",
   "execution_count": 16,
   "id": "_xB__cwhI_X6",
   "metadata": {
    "id": "_xB__cwhI_X6"
   },
   "outputs": [],
   "source": [
    "nums1 = ['lead_time', 'stay_duration','total_guests','booking_changes','days_in_waiting_list','adr','total_of_special_requests'\n",
    "         ,'previous_bookings_not_canceled','previous_cancellations']\n",
    "scaler = StandardScaler()\n",
    "power = PowerTransformer(method='yeo-johnson')\n",
    "numeric_pipe = Pipeline([\n",
    "   ('scaler', scaler),\n",
    "   ('power', power)  \n",
    "])\n",
    "\n",
    "ordinal_cat = ['deposit_type','reservation_status','is_repeated_guest']\n",
    "deposit_type_rank = ['No Deposit', 'Refundable','Non Refund']\n",
    "reservation_status_rank = ['Canceled','No-Show','Check-Out']\n",
    "is_repeated_guest_rank = [0, 1]\n",
    "ordinalencoder = OrdinalEncoder(categories=[deposit_type_rank, reservation_status_rank, is_repeated_guest_rank])\n",
    "ordinal_pipe = Pipeline([\n",
    "        ('ordinalencoder', ordinalencoder)  \n",
    "])\n",
    "\n",
    "nominal_cat = ['customer_type','hotel']\n",
    "onehotencoder = OneHotEncoder(handle_unknown='ignore', drop = 'first')\n",
    "nominal_pipe = Pipeline([ \n",
    "    ('onehotencoder', onehotencoder)\n",
    "])"
   ]
  },
  {
   "cell_type": "code",
   "execution_count": 17,
   "id": "8be33b71-de49-48ef-94f7-8ffae7d42b39",
   "metadata": {},
   "outputs": [],
   "source": [
    "preprocessor = ColumnTransformer([\n",
    "    ('numeric_pipe', numeric_pipe, nums1),\n",
    "    ('ordinal_pipe', ordinal_pipe, ordinal_cat),\n",
    "    ('nominal_pipe', nominal_pipe, nominal_cat)\n",
    "])"
   ]
  },
  {
   "cell_type": "code",
   "execution_count": null,
   "id": "1efc6691-8684-4d78-972a-856105a71294",
   "metadata": {},
   "outputs": [],
   "source": [
    "df_baru.shape"
   ]
  },
  {
   "cell_type": "code",
   "execution_count": 17,
   "id": "554a50bc-5d8c-4e94-bafd-5bcc485d35c9",
   "metadata": {},
   "outputs": [
    {
     "data": {
      "text/plain": [
       "14"
      ]
     },
     "execution_count": 17,
     "metadata": {},
     "output_type": "execute_result"
    }
   ],
   "source": [
    "pd.Series(['lead_time', 'stay_duration','total_guests','booking_changes','days_in_waiting_list','adr','total_of_special_requests'\n",
    "         ,'previous_bookings_not_canceled','previous_cancellations','deposit_type','reservation_status','is_repeated_guest',\n",
    "          'customer_type','hotel']).nunique()"
   ]
  },
  {
   "cell_type": "code",
   "execution_count": 8,
   "id": "6dec1656-85c3-406e-baa7-f142c13b8319",
   "metadata": {},
   "outputs": [
    {
     "data": {
      "text/plain": [
       "((78312, 14), (19578, 14), (78312,), (19578,))"
      ]
     },
     "execution_count": 8,
     "metadata": {},
     "output_type": "execute_result"
    }
   ],
   "source": [
    "#splitting data\n",
    "X = df_baru.drop(columns=['is_canceled'])\n",
    "y = df_baru['is_canceled']\n",
    "\n",
    "X_train, X_test, y_train, y_test = train_test_split(X, y, test_size=0.2, random_state=42, stratify = y)\n",
    "X_train.shape, X_test.shape, y_train.shape, y_test.shape"
   ]
  },
  {
   "cell_type": "code",
   "execution_count": 9,
   "id": "f21db87e-8fbd-4af0-ba56-e36e12629039",
   "metadata": {},
   "outputs": [],
   "source": [
    "#sampling\n",
    "X_train = X_train.sample(frac = 1)\n",
    "X_test = X_test.sample(frac = 1)\n",
    "y_train = y_train.sample(frac = 1)\n",
    "y_test =  y_test.sample(frac = 1)"
   ]
  },
  {
   "cell_type": "code",
   "execution_count": 10,
   "id": "d02dd4a3-c897-4ccc-a2fb-965684561ecc",
   "metadata": {},
   "outputs": [
    {
     "data": {
      "text/plain": [
       "((78312, 14), (19578, 14), (78312,), (19578,))"
      ]
     },
     "execution_count": 10,
     "metadata": {},
     "output_type": "execute_result"
    }
   ],
   "source": [
    "X_train.shape, X_test.shape, y_train.shape, y_test.shape"
   ]
  },
  {
   "cell_type": "code",
   "execution_count": 80,
   "id": "e153c51e-d7a7-4c1d-9492-2230a03ef176",
   "metadata": {},
   "outputs": [
    {
     "data": {
      "text/plain": [
       "0    0.603982\n",
       "1    0.396018\n",
       "Name: is_canceled, dtype: float64"
      ]
     },
     "execution_count": 80,
     "metadata": {},
     "output_type": "execute_result"
    }
   ],
   "source": [
    "y_train.value_counts(normalize = True)"
   ]
  },
  {
   "cell_type": "code",
   "execution_count": 81,
   "id": "09612bff-c950-4f15-842e-1980156c0dd2",
   "metadata": {},
   "outputs": [
    {
     "data": {
      "text/plain": [
       "0    0.603994\n",
       "1    0.396006\n",
       "Name: is_canceled, dtype: float64"
      ]
     },
     "execution_count": 81,
     "metadata": {},
     "output_type": "execute_result"
    }
   ],
   "source": [
    "y_test.value_counts(normalize = True)"
   ]
  },
  {
   "cell_type": "code",
   "execution_count": 21,
   "id": "21de0087-2f8f-4c6e-a597-3b314ec0df17",
   "metadata": {},
   "outputs": [],
   "source": [
    "#cross validation\n",
    "models = [\n",
    "    #['Logistic Regression', LogisticRegression()],\n",
    "    ['KNN', KNeighborsClassifier()],\n",
    "    ['Decision Tree', DecisionTreeClassifier(random_state=42)],\n",
    "    ['Random Forest', RandomForestClassifier(random_state=42)]\n",
    "]\n",
    "def cross_validation(models):\n",
    "    model_name = []\n",
    "\n",
    "    cv_recall_mean = []\n",
    "    cv_recall_std = []\n",
    "    training_recall = []\n",
    "    \n",
    "    cv_precision_mean = []\n",
    "    cv_precision_std = []\n",
    "    training_precision = []\n",
    "    \n",
    "    cv_f1_mean = []\n",
    "    cv_f1_std = []\n",
    "    training_f1 = []\n",
    "    \n",
    "    cv_roc_auc_mean = []\n",
    "    cv_roc_auc_std = []\n",
    "    training_roc_auc = []\n",
    "\n",
    "    for name, model in models:\n",
    "    \n",
    "        pipeline = Pipeline([\n",
    "            ('preprocessor', preprocessor),\n",
    "            ('model', model)\n",
    "        ]) \n",
    "        model_name.append(name)\n",
    "\n",
    "        #scoring\n",
    "        scoring= ['recall', 'precision', 'f1', 'roc_auc']\n",
    "        \n",
    "        #cross_validate \n",
    "        cv_score = cross_validate(pipeline, X_train, y_train, scoring=scoring, cv=10, n_jobs = -1,return_train_score=True)\n",
    "        \n",
    "        # training\n",
    "        training_recall.append(abs(cv_score['train_recall']).mean())\n",
    "        training_precision.append(abs(cv_score['train_precision']).mean())\n",
    "        training_f1.append(abs(cv_score['train_f1']).mean())\n",
    "        training_roc_auc.append(abs(cv_score['train_roc_auc']).mean())\n",
    "        \n",
    "        #tes                  \n",
    "        cv_recall_mean.append(abs(cv_score['test_recall']).mean())\n",
    "        cv_recall_std.append(abs(cv_score['test_recall']).std())\n",
    "        cv_precision_mean.append(abs(cv_score['test_precision']).mean())\n",
    "        cv_precision_std.append(abs(cv_score['test_precision']).std())\n",
    "        cv_f1_mean.append(abs(cv_score['test_f1']).mean())\n",
    "        cv_f1_std.append(abs(cv_score['test_f1']).std())\n",
    "        cv_roc_auc_mean.append(abs(cv_score['test_roc_auc']).mean())\n",
    "        cv_roc_auc_std.append(abs(cv_score['test_roc_auc']).std())\n",
    "        \n",
    "\n",
    "    return pd.DataFrame({\n",
    "        'Model': model_name,\n",
    "        'Training Recall' : training_recall,\n",
    "        'CV Recall (mean)': cv_recall_mean,\n",
    "        'CV Recall (std)': cv_recall_std,\n",
    "        'Training Precision' : training_precision,\n",
    "        'CV Precision (mean)' : cv_precision_mean,\n",
    "        'CV Precision (std)' : cv_precision_std,\n",
    "        'Training F1' : training_f1,\n",
    "        'CV F1 (mean)' : cv_f1_mean,\n",
    "        'CV F1 (std)' : cv_f1_std,\n",
    "        'Training AUC_ROC' : training_roc_auc,\n",
    "        'CV AUC_ROC (mean)' : cv_roc_auc_mean,\n",
    "        'CV AUC_ROC (std)' : cv_roc_auc_std,\n",
    "    })"
   ]
  },
  {
   "cell_type": "code",
   "execution_count": 87,
   "id": "29f96f26-0df5-4b15-82c2-47626cf30243",
   "metadata": {},
   "outputs": [],
   "source": [
    "cv_result = cross_validation(models)"
   ]
  },
  {
   "cell_type": "code",
   "execution_count": 88,
   "id": "6e28da2f-fefd-4c73-aa62-82b5ed59e2ae",
   "metadata": {},
   "outputs": [
    {
     "data": {
      "text/html": [
       "<div>\n",
       "<style scoped>\n",
       "    .dataframe tbody tr th:only-of-type {\n",
       "        vertical-align: middle;\n",
       "    }\n",
       "\n",
       "    .dataframe tbody tr th {\n",
       "        vertical-align: top;\n",
       "    }\n",
       "\n",
       "    .dataframe thead th {\n",
       "        text-align: right;\n",
       "    }\n",
       "</style>\n",
       "<table border=\"1\" class=\"dataframe\">\n",
       "  <thead>\n",
       "    <tr style=\"text-align: right;\">\n",
       "      <th></th>\n",
       "      <th>Model</th>\n",
       "      <th>Training Recall</th>\n",
       "      <th>CV Recall (mean)</th>\n",
       "      <th>CV Recall (std)</th>\n",
       "      <th>Training Precision</th>\n",
       "      <th>CV Precision (mean)</th>\n",
       "      <th>CV Precision (std)</th>\n",
       "      <th>Training F1</th>\n",
       "      <th>CV F1 (mean)</th>\n",
       "      <th>CV F1 (std)</th>\n",
       "      <th>Training AUC_ROC</th>\n",
       "      <th>CV AUC_ROC (mean)</th>\n",
       "      <th>CV AUC_ROC (std)</th>\n",
       "    </tr>\n",
       "  </thead>\n",
       "  <tbody>\n",
       "    <tr>\n",
       "      <th>0</th>\n",
       "      <td>KNN</td>\n",
       "      <td>0.484532</td>\n",
       "      <td>0.307581</td>\n",
       "      <td>0.007456</td>\n",
       "      <td>0.617171</td>\n",
       "      <td>0.390679</td>\n",
       "      <td>0.006482</td>\n",
       "      <td>0.542856</td>\n",
       "      <td>0.344169</td>\n",
       "      <td>0.006909</td>\n",
       "      <td>0.710530</td>\n",
       "      <td>0.497889</td>\n",
       "      <td>0.004633</td>\n",
       "    </tr>\n",
       "    <tr>\n",
       "      <th>1</th>\n",
       "      <td>Decision Tree</td>\n",
       "      <td>0.718305</td>\n",
       "      <td>0.321026</td>\n",
       "      <td>0.005209</td>\n",
       "      <td>0.929847</td>\n",
       "      <td>0.394929</td>\n",
       "      <td>0.005641</td>\n",
       "      <td>0.810496</td>\n",
       "      <td>0.354142</td>\n",
       "      <td>0.004663</td>\n",
       "      <td>0.957014</td>\n",
       "      <td>0.499465</td>\n",
       "      <td>0.004868</td>\n",
       "    </tr>\n",
       "    <tr>\n",
       "      <th>2</th>\n",
       "      <td>Random Forest</td>\n",
       "      <td>0.758302</td>\n",
       "      <td>0.274434</td>\n",
       "      <td>0.009354</td>\n",
       "      <td>0.889493</td>\n",
       "      <td>0.391027</td>\n",
       "      <td>0.007085</td>\n",
       "      <td>0.818671</td>\n",
       "      <td>0.322486</td>\n",
       "      <td>0.008660</td>\n",
       "      <td>0.952467</td>\n",
       "      <td>0.496504</td>\n",
       "      <td>0.004652</td>\n",
       "    </tr>\n",
       "  </tbody>\n",
       "</table>\n",
       "</div>"
      ],
      "text/plain": [
       "           Model  Training Recall  CV Recall (mean)  CV Recall (std)  \\\n",
       "0            KNN         0.484532          0.307581         0.007456   \n",
       "1  Decision Tree         0.718305          0.321026         0.005209   \n",
       "2  Random Forest         0.758302          0.274434         0.009354   \n",
       "\n",
       "   Training Precision  CV Precision (mean)  CV Precision (std)  Training F1  \\\n",
       "0            0.617171             0.390679            0.006482     0.542856   \n",
       "1            0.929847             0.394929            0.005641     0.810496   \n",
       "2            0.889493             0.391027            0.007085     0.818671   \n",
       "\n",
       "   CV F1 (mean)  CV F1 (std)  Training AUC_ROC  CV AUC_ROC (mean)  \\\n",
       "0      0.344169     0.006909          0.710530           0.497889   \n",
       "1      0.354142     0.004663          0.957014           0.499465   \n",
       "2      0.322486     0.008660          0.952467           0.496504   \n",
       "\n",
       "   CV AUC_ROC (std)  \n",
       "0          0.004633  \n",
       "1          0.004868  \n",
       "2          0.004652  "
      ]
     },
     "execution_count": 88,
     "metadata": {},
     "output_type": "execute_result"
    }
   ],
   "source": [
    "cv_result"
   ]
  },
  {
   "cell_type": "code",
   "execution_count": 76,
   "id": "d147a30d-6d07-4077-bd79-071ffe4c6d6e",
   "metadata": {},
   "outputs": [
    {
     "name": "stdout",
     "output_type": "stream",
     "text": [
      "Fitting 10 folds for each of 10 candidates, totalling 100 fits\n",
      "{'algo__n_estimators': 100, 'algo__min_samples_leaf': 1, 'algo__max_features': 0.3, 'algo__max_depth': 20}\n",
      "0.9031160633985779 0.5087268954301079\n"
     ]
    }
   ],
   "source": [
    "#Hyperparameter Tuning (Randomizer)\n",
    "#Hyptun Logistic Regression\n",
    "\n",
    "randomforest = RandomForestClassifier()\n",
    "\n",
    "pipeline = Pipeline([\n",
    "        ('preprocessor', preprocessor),\n",
    "        ('algo', randomforest)\n",
    "    ])\n",
    "\n",
    "param = {'algo__n_estimators': [100, 150, 200],\n",
    " 'algo__max_depth': [20, 50, 80],\n",
    " 'algo__max_features': [0.3, 0.6, 0.8],\n",
    " 'algo__min_samples_leaf': [1, 5, 10]}\n",
    "\n",
    "\n",
    "rs_rf = RandomizedSearchCV(estimator=pipeline, param_distributions=param, scoring='roc_auc', random_state=42, cv=10, n_jobs=-1, verbose=1)\n",
    "rs_rf.fit(X_train, y_train)\n",
    "\n",
    "print(rs_rf.best_params_)\n",
    "print(rs_rf.score(X_train, y_train), rs_rf.best_score_)"
   ]
  },
  {
   "cell_type": "code",
   "execution_count": 23,
   "id": "989291b4-9d66-4fec-afc1-d994783150a0",
   "metadata": {},
   "outputs": [],
   "source": [
    "randomforest = RandomForestClassifier(n_estimators = 100, min_samples_leaf= 1,max_features = 0.3,max_depth = 20)\n",
    "model = Pipeline([\n",
    "        ('preprocessor', preprocessor),\n",
    "        ('algo', randomforest)\n",
    "    ]).fit(X_train, y_train)"
   ]
  },
  {
   "cell_type": "code",
   "execution_count": 97,
   "id": "c8c8bfc1-26ca-4f55-8091-21ca1e718b8b",
   "metadata": {},
   "outputs": [],
   "source": [
    "y_pred = model.predict(X_test) "
   ]
  },
  {
   "cell_type": "code",
   "execution_count": 98,
   "id": "ed759a66-a751-401a-82b5-f212c1585abf",
   "metadata": {},
   "outputs": [
    {
     "data": {
      "text/plain": [
       "0.499524706933332"
      ]
     },
     "execution_count": 98,
     "metadata": {},
     "output_type": "execute_result"
    }
   ],
   "source": [
    "roc_auc_score(y_test,y_pred)"
   ]
  },
  {
   "cell_type": "code",
   "execution_count": null,
   "id": "71a47129-94ff-4981-ac23-5bbcd5554b27",
   "metadata": {},
   "outputs": [
    {
     "name": "stdout",
     "output_type": "stream",
     "text": [
      "              precision    recall  f1-score   support\n",
      "\n",
      "           0       0.67      0.99      0.80     47299\n",
      "           1       0.92      0.26      0.41     31013\n",
      "\n",
      "    accuracy                           0.70     78312\n",
      "   macro avg       0.80      0.62      0.60     78312\n",
      "weighted avg       0.77      0.70      0.65     78312\n",
      "\n"
     ]
    },
    {
     "data": {
      "text/plain": [
       "Text(56.5, 0.5, 'Realita')"
      ]
     },
     "execution_count": 101,
     "metadata": {},
     "output_type": "execute_result"
    },
    {
     "data": {
      "image/png": "[encoded data removed]",
      "text/plain": [
       "<Figure size 720x576 with 2 Axes>"
      ]
     },
     "metadata": {},
     "output_type": "display_data"
    }
   ],
   "source": [
    "#confusion pada data train logreg\n",
    "plt.rcParams['figure.figsize'] = (10,8)\n",
    "sns.set(font_scale=2)\n",
    "cnf_matrix = metrics.confusion_matrix(y_train, model.predict(X_train))\n",
    "print(metrics.classification_report(y_train, model.predict(X_train)))\n",
    "sns.heatmap(cnf_matrix,cmap='coolwarm_r',annot=True,linewidth=0.5,fmt='d')\n",
    "plt.title('Confusion Matrix')\n",
    "\n",
    "plt.xlabel('Prediksi')\n",
    "plt.ylabel('Realita')"
   ]
  },
  {
   "cell_type": "code",
   "execution_count": 33,
   "id": "96116cda-1857-4420-92b5-cd12c7f41f4c",
   "metadata": {},
   "outputs": [
    {
     "data": {
      "text/html": [
       "<div>\n",
       "<style scoped>\n",
       "    .dataframe tbody tr th:only-of-type {\n",
       "        vertical-align: middle;\n",
       "    }\n",
       "\n",
       "    .dataframe tbody tr th {\n",
       "        vertical-align: top;\n",
       "    }\n",
       "\n",
       "    .dataframe thead th {\n",
       "        text-align: right;\n",
       "    }\n",
       "</style>\n",
       "<table border=\"1\" class=\"dataframe\">\n",
       "  <thead>\n",
       "    <tr style=\"text-align: right;\">\n",
       "      <th></th>\n",
       "      <th>hotel</th>\n",
       "      <th>lead_time</th>\n",
       "      <th>is_repeated_guest</th>\n",
       "      <th>previous_cancellations</th>\n",
       "      <th>previous_bookings_not_canceled</th>\n",
       "      <th>booking_changes</th>\n",
       "      <th>deposit_type</th>\n",
       "      <th>days_in_waiting_list</th>\n",
       "      <th>customer_type</th>\n",
       "      <th>adr</th>\n",
       "      <th>total_of_special_requests</th>\n",
       "      <th>reservation_status</th>\n",
       "      <th>total_guests</th>\n",
       "      <th>stay_duration</th>\n",
       "    </tr>\n",
       "  </thead>\n",
       "  <tbody>\n",
       "    <tr>\n",
       "      <th>93517</th>\n",
       "      <td>City Hotel</td>\n",
       "      <td>67</td>\n",
       "      <td>0</td>\n",
       "      <td>0</td>\n",
       "      <td>0</td>\n",
       "      <td>0</td>\n",
       "      <td>No Deposit</td>\n",
       "      <td>0</td>\n",
       "      <td>Transient</td>\n",
       "      <td>95.76</td>\n",
       "      <td>1</td>\n",
       "      <td>Check-Out</td>\n",
       "      <td>2</td>\n",
       "      <td>3</td>\n",
       "    </tr>\n",
       "    <tr>\n",
       "      <th>75263</th>\n",
       "      <td>City Hotel</td>\n",
       "      <td>254</td>\n",
       "      <td>0</td>\n",
       "      <td>0</td>\n",
       "      <td>0</td>\n",
       "      <td>0</td>\n",
       "      <td>No Deposit</td>\n",
       "      <td>0</td>\n",
       "      <td>Transient-Party</td>\n",
       "      <td>100.70</td>\n",
       "      <td>1</td>\n",
       "      <td>Check-Out</td>\n",
       "      <td>2</td>\n",
       "      <td>1</td>\n",
       "    </tr>\n",
       "    <tr>\n",
       "      <th>33502</th>\n",
       "      <td>City Hotel</td>\n",
       "      <td>102</td>\n",
       "      <td>0</td>\n",
       "      <td>0</td>\n",
       "      <td>0</td>\n",
       "      <td>0</td>\n",
       "      <td>Non Refund</td>\n",
       "      <td>0</td>\n",
       "      <td>Transient-Party</td>\n",
       "      <td>101.50</td>\n",
       "      <td>0</td>\n",
       "      <td>Canceled</td>\n",
       "      <td>2</td>\n",
       "      <td>2</td>\n",
       "    </tr>\n",
       "    <tr>\n",
       "      <th>57636</th>\n",
       "      <td>City Hotel</td>\n",
       "      <td>179</td>\n",
       "      <td>0</td>\n",
       "      <td>0</td>\n",
       "      <td>0</td>\n",
       "      <td>0</td>\n",
       "      <td>No Deposit</td>\n",
       "      <td>0</td>\n",
       "      <td>Transient</td>\n",
       "      <td>118.80</td>\n",
       "      <td>0</td>\n",
       "      <td>Canceled</td>\n",
       "      <td>2</td>\n",
       "      <td>2</td>\n",
       "    </tr>\n",
       "    <tr>\n",
       "      <th>42074</th>\n",
       "      <td>City Hotel</td>\n",
       "      <td>25</td>\n",
       "      <td>0</td>\n",
       "      <td>0</td>\n",
       "      <td>0</td>\n",
       "      <td>0</td>\n",
       "      <td>No Deposit</td>\n",
       "      <td>0</td>\n",
       "      <td>Transient</td>\n",
       "      <td>187.00</td>\n",
       "      <td>1</td>\n",
       "      <td>Canceled</td>\n",
       "      <td>3</td>\n",
       "      <td>3</td>\n",
       "    </tr>\n",
       "    <tr>\n",
       "      <th>...</th>\n",
       "      <td>...</td>\n",
       "      <td>...</td>\n",
       "      <td>...</td>\n",
       "      <td>...</td>\n",
       "      <td>...</td>\n",
       "      <td>...</td>\n",
       "      <td>...</td>\n",
       "      <td>...</td>\n",
       "      <td>...</td>\n",
       "      <td>...</td>\n",
       "      <td>...</td>\n",
       "      <td>...</td>\n",
       "      <td>...</td>\n",
       "      <td>...</td>\n",
       "    </tr>\n",
       "    <tr>\n",
       "      <th>84078</th>\n",
       "      <td>City Hotel</td>\n",
       "      <td>0</td>\n",
       "      <td>0</td>\n",
       "      <td>0</td>\n",
       "      <td>0</td>\n",
       "      <td>0</td>\n",
       "      <td>No Deposit</td>\n",
       "      <td>0</td>\n",
       "      <td>Transient</td>\n",
       "      <td>87.00</td>\n",
       "      <td>0</td>\n",
       "      <td>Check-Out</td>\n",
       "      <td>1</td>\n",
       "      <td>1</td>\n",
       "    </tr>\n",
       "    <tr>\n",
       "      <th>55816</th>\n",
       "      <td>City Hotel</td>\n",
       "      <td>215</td>\n",
       "      <td>0</td>\n",
       "      <td>0</td>\n",
       "      <td>0</td>\n",
       "      <td>0</td>\n",
       "      <td>Non Refund</td>\n",
       "      <td>0</td>\n",
       "      <td>Transient</td>\n",
       "      <td>110.00</td>\n",
       "      <td>0</td>\n",
       "      <td>Canceled</td>\n",
       "      <td>2</td>\n",
       "      <td>4</td>\n",
       "    </tr>\n",
       "    <tr>\n",
       "      <th>38402</th>\n",
       "      <td>City Hotel</td>\n",
       "      <td>146</td>\n",
       "      <td>0</td>\n",
       "      <td>0</td>\n",
       "      <td>0</td>\n",
       "      <td>0</td>\n",
       "      <td>No Deposit</td>\n",
       "      <td>0</td>\n",
       "      <td>Transient</td>\n",
       "      <td>121.55</td>\n",
       "      <td>1</td>\n",
       "      <td>Check-Out</td>\n",
       "      <td>2</td>\n",
       "      <td>3</td>\n",
       "    </tr>\n",
       "    <tr>\n",
       "      <th>13839</th>\n",
       "      <td>Resort Hotel</td>\n",
       "      <td>0</td>\n",
       "      <td>1</td>\n",
       "      <td>0</td>\n",
       "      <td>4</td>\n",
       "      <td>0</td>\n",
       "      <td>No Deposit</td>\n",
       "      <td>0</td>\n",
       "      <td>Transient</td>\n",
       "      <td>39.00</td>\n",
       "      <td>1</td>\n",
       "      <td>Check-Out</td>\n",
       "      <td>1</td>\n",
       "      <td>1</td>\n",
       "    </tr>\n",
       "    <tr>\n",
       "      <th>39341</th>\n",
       "      <td>City Hotel</td>\n",
       "      <td>26</td>\n",
       "      <td>0</td>\n",
       "      <td>0</td>\n",
       "      <td>0</td>\n",
       "      <td>0</td>\n",
       "      <td>No Deposit</td>\n",
       "      <td>0</td>\n",
       "      <td>Transient-Party</td>\n",
       "      <td>120.00</td>\n",
       "      <td>0</td>\n",
       "      <td>Canceled</td>\n",
       "      <td>2</td>\n",
       "      <td>1</td>\n",
       "    </tr>\n",
       "  </tbody>\n",
       "</table>\n",
       "<p>78312 rows × 14 columns</p>\n",
       "</div>"
      ],
      "text/plain": [
       "              hotel  lead_time  is_repeated_guest  previous_cancellations  \\\n",
       "93517    City Hotel         67                  0                       0   \n",
       "75263    City Hotel        254                  0                       0   \n",
       "33502    City Hotel        102                  0                       0   \n",
       "57636    City Hotel        179                  0                       0   \n",
       "42074    City Hotel         25                  0                       0   \n",
       "...             ...        ...                ...                     ...   \n",
       "84078    City Hotel          0                  0                       0   \n",
       "55816    City Hotel        215                  0                       0   \n",
       "38402    City Hotel        146                  0                       0   \n",
       "13839  Resort Hotel          0                  1                       0   \n",
       "39341    City Hotel         26                  0                       0   \n",
       "\n",
       "       previous_bookings_not_canceled  booking_changes deposit_type  \\\n",
       "93517                               0                0   No Deposit   \n",
       "75263                               0                0   No Deposit   \n",
       "33502                               0                0   Non Refund   \n",
       "57636                               0                0   No Deposit   \n",
       "42074                               0                0   No Deposit   \n",
       "...                               ...              ...          ...   \n",
       "84078                               0                0   No Deposit   \n",
       "55816                               0                0   Non Refund   \n",
       "38402                               0                0   No Deposit   \n",
       "13839                               4                0   No Deposit   \n",
       "39341                               0                0   No Deposit   \n",
       "\n",
       "       days_in_waiting_list    customer_type     adr  \\\n",
       "93517                     0        Transient   95.76   \n",
       "75263                     0  Transient-Party  100.70   \n",
       "33502                     0  Transient-Party  101.50   \n",
       "57636                     0        Transient  118.80   \n",
       "42074                     0        Transient  187.00   \n",
       "...                     ...              ...     ...   \n",
       "84078                     0        Transient   87.00   \n",
       "55816                     0        Transient  110.00   \n",
       "38402                     0        Transient  121.55   \n",
       "13839                     0        Transient   39.00   \n",
       "39341                     0  Transient-Party  120.00   \n",
       "\n",
       "       total_of_special_requests reservation_status  total_guests  \\\n",
       "93517                          1          Check-Out             2   \n",
       "75263                          1          Check-Out             2   \n",
       "33502                          0           Canceled             2   \n",
       "57636                          0           Canceled             2   \n",
       "42074                          1           Canceled             3   \n",
       "...                          ...                ...           ...   \n",
       "84078                          0          Check-Out             1   \n",
       "55816                          0           Canceled             2   \n",
       "38402                          1          Check-Out             2   \n",
       "13839                          1          Check-Out             1   \n",
       "39341                          0           Canceled             2   \n",
       "\n",
       "       stay_duration  \n",
       "93517              3  \n",
       "75263              1  \n",
       "33502              2  \n",
       "57636              2  \n",
       "42074              3  \n",
       "...              ...  \n",
       "84078              1  \n",
       "55816              4  \n",
       "38402              3  \n",
       "13839              1  \n",
       "39341              1  \n",
       "\n",
       "[78312 rows x 14 columns]"
      ]
     },
     "execution_count": 33,
     "metadata": {},
     "output_type": "execute_result"
    }
   ],
   "source": [
    "X_train"
   ]
  },
  {
   "cell_type": "code",
   "execution_count": 32,
   "id": "30a9b99d-412d-4b45-9a1e-d4782d942e7c",
   "metadata": {},
   "outputs": [
    {
     "data": {
      "image/png": "[encoded data removed]",
      "text/plain": [
       "<Figure size 432x288 with 1 Axes>"
      ]
     },
     "metadata": {
      "needs_background": "light"
     },
     "output_type": "display_data"
    }
   ],
   "source": [
    "feat_importances = pd.Series(model.steps[1][1].feature_importances_)\n",
    "feat_importances.nlargest(10).plot.barh()\n",
    "plt.show()"
   ]
  },
  {
   "cell_type": "code",
   "execution_count": null,
   "id": "ac42fae4-7af4-462c-a85e-50f310af7e18",
   "metadata": {},
   "outputs": [],
   "source": [
    "#Label deposit_type one hot encoding\n",
    "new = pd.get_dummies(df_baru['deposit_type'], prefix='tipe')\n",
    "df_baru['tipe_No Deposit'] = new['tipe_No Deposit']\n",
    "df_baru['tipe_Non Refund'] = new['tipe_Non Refund']\n",
    "df_baru['tipe_Refundable'] = new['tipe_Refundable']"
   ]
  },
  {
   "cell_type": "code",
   "execution_count": null,
   "id": "ddcd1cb4-3d41-4f64-bdc0-5ac062aa56ff",
   "metadata": {},
   "outputs": [],
   "source": [
    "#label reservation_status one hot encoding\n",
    "new1 = pd.get_dummies(df_baru['reservation_status'], prefix='tipe')\n",
    "df_baru['tipe_Check-Out'] = new1['tipe_Check-Out']\n",
    "df_baru['tipe_Canceled'] = new1['tipe_Canceled']\n",
    "df_baru['tipe_No-Show'] = new1['tipe_No-Show']"
   ]
  },
  {
   "cell_type": "code",
   "execution_count": null,
   "id": "a9fca4af-5b45-4339-8371-a7d30af3b5e6",
   "metadata": {},
   "outputs": [],
   "source": [
    "#label customer_type one hot encoding\n",
    "new2 = pd.get_dummies(df_baru['customer_type'], prefix='tipe')\n",
    "df_baru['tipe_Transient'] = new2['tipe_Transient']\n",
    "df_baru['tipe_Contract'] = new2['tipe_Contract']\n",
    "df_baru['tipe_Transient-Party'] = new2['tipe_Transient-Party']\n",
    "df_baru['tipe_Group'] = new2['tipe_Group']"
   ]
  },
  {
   "cell_type": "code",
   "execution_count": null,
   "id": "9f386f74-2dff-4ee7-9529-238bb5de74e3",
   "metadata": {},
   "outputs": [],
   "source": [
    "mapping = {'Resort Hotel':0,\n",
    "           'City Hotel': 1}\n",
    "df_baru['hotel'] = df_baru['hotel'].map(mapping)"
   ]
  },
  {
   "cell_type": "code",
   "execution_count": null,
   "id": "448689c7-275c-44dd-8599-ba0b6cd2e652",
   "metadata": {},
   "outputs": [],
   "source": [
    "cat2 = ['tipe_No Deposit','tipe_Non Refund','tipe_Refundable','tipe_Check-Out','tipe_Canceled','tipe_No-Show','tipe_Transient','tipe_Contract',\n",
    "        'tipe_Transient-Party','tipe_Group','hotel']"
   ]
  },
  {
   "cell_type": "code",
   "execution_count": null,
   "id": "e56d6cec-9853-4426-9aa0-5d4e2193b9c6",
   "metadata": {},
   "outputs": [],
   "source": [
    "feature = nums1 + cat2"
   ]
  },
  {
   "cell_type": "code",
   "execution_count": null,
   "id": "0f3de5c1-5300-4394-bd46-67cf5a9c37a4",
   "metadata": {},
   "outputs": [],
   "source": [
    "df_baru.info()"
   ]
  },
  {
   "cell_type": "code",
   "execution_count": null,
   "id": "OtUn33GfMOVt",
   "metadata": {
    "colab": {
     "base_uri": "https://localhost:8080/",
     "height": 543
    },
    "id": "OtUn33GfMOVt",
    "outputId": "24acf622-7a19-4375-8f82-2686718dff91"
   },
   "outputs": [],
   "source": [
    "for i in range(0, len(nums1)):\n",
    "     df_baru[nums1[i]]= np.log(df_baru[nums1[i]]+1) #Logaritmik nggak bisa tanpa 0, harus tambah 1"
   ]
  },
  {
   "cell_type": "code",
   "execution_count": null,
   "id": "3cd80fe5-6d91-450b-a0f4-51bb9f2405ff",
   "metadata": {},
   "outputs": [],
   "source": [
    "pd.set_option(\"display.max_columns\", None)\n",
    "df_baru"
   ]
  },
  {
   "cell_type": "code",
   "execution_count": null,
   "id": "e129ef01-8a6c-42ea-a731-f0a8c331c33b",
   "metadata": {
    "id": "e129ef01-8a6c-42ea-a731-f0a8c331c33b"
   },
   "outputs": [],
   "source": [
    "#Scaling\n",
    "#df_baru['stay_duration'] = StandardScaler().fit_transform(df_baru['stay_duration'].values.reshape(len(df_baru), 1))\n",
    "#df_baru['total_guests'] = StandardScaler().fit_transform(df_baru['total_guests'].values.reshape(len(df_baru), 1))"
   ]
  },
  {
   "cell_type": "code",
   "execution_count": null,
   "id": "80b553f4-1a19-4109-a18a-fc86dca07574",
   "metadata": {
    "colab": {
     "base_uri": "https://localhost:8080/"
    },
    "id": "80b553f4-1a19-4109-a18a-fc86dca07574",
    "outputId": "d2dec071-0a4d-441d-de57-9eb9a5e47923"
   },
   "outputs": [],
   "source": [
    "df_baru.info()"
   ]
  },
  {
   "cell_type": "markdown",
   "id": "9vcyVlRWw4fw",
   "metadata": {
    "id": "9vcyVlRWw4fw"
   },
   "source": [
    "# Modelling"
   ]
  },
  {
   "cell_type": "code",
   "execution_count": null,
   "id": "204dcf68-6fd9-41fd-90c1-89b89401a968",
   "metadata": {
    "id": "204dcf68-6fd9-41fd-90c1-89b89401a968"
   },
   "outputs": [],
   "source": [
    "# pemisahan features vs target\n",
    "#X = df_baru.drop('is_canceled', axis=1)\n",
    "X = df_baru[feature].values\n",
    "y = df_baru['is_canceled'].values"
   ]
  },
  {
   "cell_type": "code",
   "execution_count": null,
   "id": "Lqd8c_TgOZFg",
   "metadata": {
    "id": "Lqd8c_TgOZFg"
   },
   "outputs": [],
   "source": [
    "from sklearn.model_selection import train_test_split\n",
    "X_train, X_test, y_train, y_test = train_test_split(X, y, test_size=0.3, random_state=42)"
   ]
  },
  {
   "cell_type": "code",
   "execution_count": null,
   "id": "kgVnwWxrGLnS",
   "metadata": {
    "id": "kgVnwWxrGLnS"
   },
   "outputs": [],
   "source": [
    "from sklearn.metrics import accuracy_score, precision_score, recall_score, f1_score, roc_auc_score\n",
    "from sklearn.model_selection import cross_validate\n",
    "\n",
    "def eval_classification(model):\n",
    "    y_pred = model.predict(X_test)\n",
    "    y_pred_train = model.predict(X_train)\n",
    "    y_pred_proba = model.predict_proba(X_test)\n",
    "    y_pred_proba_train = model.predict_proba(X_train)\n",
    "    \n",
    "    print(\"Accuracy (Test Set): %.2f\" % accuracy_score(y_test, y_pred))\n",
    "    print(\"Precision (Test Set): %.2f\" % precision_score(y_test, y_pred))\n",
    "    print(\"Recall (Test Set): %.2f\" % recall_score(y_test, y_pred))\n",
    "    print(\"F1-Score (Test Set): %.2f\" % f1_score(y_test, y_pred))\n",
    "    \n",
    "    print(\"roc_auc (test-proba): %.2f\" % roc_auc_score(y_test, y_pred_proba[:, 1]))\n",
    "    print(\"roc_auc (train-proba): %.2f\" % roc_auc_score(y_train, y_pred_proba_train[:, 1]))\n",
    "\n",
    "def show_feature_importance(model):\n",
    "    feat_importances = pd.Series(model.feature_importances_, index=X.columns)\n",
    "    ax = feat_importances.nlargest(25).plot(kind='barh', figsize=(10, 8))\n",
    "    ax.invert_yaxis()\n",
    "\n",
    "    plt.xlabel('score')\n",
    "    plt.ylabel('feature')\n",
    "    plt.title('feature importance score')\n",
    "\n",
    "def show_best_hyperparameter(model):\n",
    "    print(model.best_estimator_.get_params())"
   ]
  },
  {
   "cell_type": "code",
   "execution_count": null,
   "id": "MZeiUGK7Ole6",
   "metadata": {
    "id": "MZeiUGK7Ole6"
   },
   "outputs": [],
   "source": [
    "import numpy as np\n",
    "from matplotlib import pyplot as plt\n",
    "from sklearn.linear_model import LogisticRegression\n",
    "from sklearn.neighbors import KNeighborsClassifier\n",
    "from sklearn.tree import DecisionTreeClassifier\n",
    "\n",
    "def draw_learning_curve(param_values):\n",
    "    train_scores = []\n",
    "    test_scores = []\n",
    "\n",
    "    for c in param_values:\n",
    "        model = LogisticRegression(penalty='l2', C=c)\n",
    "        model.fit(X_train, y_train)\n",
    "\n",
    "        # eval on train\n",
    "        y_pred_train_proba = model.predict_proba(X_train)\n",
    "        train_auc = roc_auc_score(y_train, y_pred_train_proba[:,1])\n",
    "        train_scores.append(train_auc)\n",
    "\n",
    "        # eval on test\n",
    "        y_pred_proba = model.predict_proba(X_test)\n",
    "        test_auc = roc_auc_score(y_test, y_pred_proba[:,1])\n",
    "        test_scores.append(test_auc)\n",
    "\n",
    "        print('param value: ' + str(c) + '; train: ' + str(train_auc) + '; test: '+ str(test_auc))\n",
    "\n",
    "    plt.plot(param_values, train_scores, label='Train')\n",
    "    plt.plot(param_values, test_scores, label='Test')\n",
    "    plt.xlabel('C')\n",
    "    plt.ylabel('AUC')\n",
    "    plt.title('Learning Curve - Hyperparameter C - Logistic Regression')\n",
    "    plt.legend()\n",
    "    plt.show()"
   ]
  },
  {
   "cell_type": "markdown",
   "id": "DIzVKa1v08w_",
   "metadata": {
    "id": "DIzVKa1v08w_"
   },
   "source": [
    "##XGboost"
   ]
  },
  {
   "cell_type": "code",
   "execution_count": null,
   "id": "IP1CGZH2Ot3t",
   "metadata": {
    "colab": {
     "base_uri": "https://localhost:8080/"
    },
    "id": "IP1CGZH2Ot3t",
    "outputId": "cc2d1605-16f4-41fd-a3ce-6d9df267cdea"
   },
   "outputs": [],
   "source": [
    "from xgboost import XGBClassifier\n",
    "\n",
    "xg = XGBClassifier()\n",
    "xg.fit(X_train, y_train)\n",
    "eval_classification(xg)"
   ]
  },
  {
   "cell_type": "markdown",
   "id": "wPR0Fo9AO47B",
   "metadata": {
    "id": "wPR0Fo9AO47B"
   },
   "source": [
    "##XGboost (Hyperparameter Tuning)"
   ]
  },
  {
   "cell_type": "code",
   "execution_count": null,
   "id": "c6PBNCT1OwGq",
   "metadata": {
    "colab": {
     "base_uri": "https://localhost:8080/"
    },
    "id": "c6PBNCT1OwGq",
    "outputId": "bc2941a6-83d5-49d3-c8ad-177ee6390e56"
   },
   "outputs": [],
   "source": [
    "from sklearn.model_selection import RandomizedSearchCV, GridSearchCV\n",
    "import numpy as np\n",
    "\n",
    "#Menjadikan ke dalam bentuk dictionary\n",
    "hyperparameters = {\n",
    "                    'max_depth' : [int(x) for x in np.linspace(10, 110, num = 11)],\n",
    "                    'min_child_weight' : [int(x) for x in np.linspace(1, 20, num = 11)],\n",
    "                    'gamma' : [float(x) for x in np.linspace(0, 1, num = 11)],\n",
    "                    'tree_method' : ['auto', 'exact', 'approx', 'hist'],\n",
    "\n",
    "                    'colsample_bytree' : [float(x) for x in np.linspace(0, 1, num = 11)],\n",
    "                    'eta' : [float(x) for x in np.linspace(0, 1, num = 100)],\n",
    "\n",
    "                    'lambda' : [float(x) for x in np.linspace(0, 1, num = 11)],\n",
    "                    'alpha' : [float(x) for x in np.linspace(0, 1, num = 11)]\n",
    "                    }\n",
    "\n",
    "# Init\n",
    "from xgboost import XGBClassifier\n",
    "xg = XGBClassifier(random_state=42)\n",
    "xg_tuned = RandomizedSearchCV(xg, hyperparameters, cv=5, random_state=42, scoring='recall')\n",
    "xg_tuned.fit(X_train,y_train)\n",
    "\n",
    "# Predict & Evaluation\n",
    "eval_classification(xg_tuned)"
   ]
  },
  {
   "cell_type": "markdown",
   "id": "Cel9wCo_W4pw",
   "metadata": {
    "id": "Cel9wCo_W4pw"
   },
   "source": [
    "percobaan 2"
   ]
  },
  {
   "cell_type": "code",
   "execution_count": null,
   "id": "UAu4Qi4ZW3iA",
   "metadata": {
    "colab": {
     "base_uri": "https://localhost:8080/"
    },
    "id": "UAu4Qi4ZW3iA",
    "outputId": "35094595-62c5-46a9-ce28-71262c1dc6e9"
   },
   "outputs": [],
   "source": [
    "from sklearn.model_selection import RandomizedSearchCV, GridSearchCV\n",
    "import numpy as np\n",
    "\n",
    "#Menjadikan ke dalam bentuk dictionary\n",
    "hyperparameters = {\n",
    "                    'max_depth' : [int(x) for x in np.linspace(10, 110, num = 11)],\n",
    "                    'min_child_weight' : [int(x) for x in np.linspace(1, 20, num = 11)],\n",
    "                    'gamma' : [float(x) for x in np.linspace(0, 1, num = 11)],\n",
    "                    'tree_method' : ['auto', 'exact', 'approx', 'hist'],\n",
    "\n",
    "                    'colsample_bytree' : [float(x) for x in np.linspace(0, 1, num = 11)],\n",
    "                    'eta' : [float(x) for x in np.linspace(0, 1, num = 100)],\n",
    "\n",
    "                    'lambda' : [float(x) for x in np.linspace(0, 1, num = 11)],\n",
    "                    'alpha' : [float(x) for x in np.linspace(0, 1, num = 11)]\n",
    "                    }\n",
    "\n",
    "# Init\n",
    "from xgboost import XGBClassifier\n",
    "xg = XGBClassifier(random_state=42)\n",
    "xg_tuned = RandomizedSearchCV(xg, hyperparameters, cv=5, random_state=42, scoring='recall')\n",
    "xg_tuned.fit(X_train,y_train)\n",
    "\n",
    "# Predict & Evaluation\n",
    "eval_classification(xg_tuned)"
   ]
  },
  {
   "cell_type": "code",
   "execution_count": null,
   "id": "vnT0-kR1TE-W",
   "metadata": {
    "colab": {
     "base_uri": "https://localhost:8080/"
    },
    "id": "vnT0-kR1TE-W",
    "outputId": "616f70e2-cc1e-471e-b5f3-6a39253b6a52"
   },
   "outputs": [],
   "source": [
    "!pip install shap"
   ]
  },
  {
   "cell_type": "code",
   "execution_count": null,
   "id": "axI17np3aU-g",
   "metadata": {
    "colab": {
     "base_uri": "https://localhost:8080/",
     "height": 347
    },
    "id": "axI17np3aU-g",
    "outputId": "9eb4c059-a8ba-4c51-868b-1f90c13155d6"
   },
   "outputs": [],
   "source": [
    "from matplotlib import pyplot\n",
    "pyplot.bar(range(len(xg.feature_importances_)), xg.feature_importances_)\n",
    "pyplot.show()"
   ]
  },
  {
   "cell_type": "markdown",
   "id": "ugkQGyCe1Ad5",
   "metadata": {
    "id": "ugkQGyCe1Ad5"
   },
   "source": [
    "##Decision Tree"
   ]
  },
  {
   "cell_type": "code",
   "execution_count": null,
   "id": "VcY9pTqQV1r4",
   "metadata": {
    "colab": {
     "base_uri": "https://localhost:8080/"
    },
    "id": "VcY9pTqQV1r4",
    "outputId": "9ce72e2c-790f-4e09-a33d-82a2679b66d1"
   },
   "outputs": [],
   "source": [
    "# decision tree\n",
    "from sklearn.tree import DecisionTreeClassifier # import decision tree dari sklearn\n",
    "dt = DecisionTreeClassifier() # inisiasi object dengan nama dt\n",
    "dt.fit(X_train, y_train) # fit model decision tree dari data train\n",
    "eval_classification(dt)"
   ]
  },
  {
   "cell_type": "markdown",
   "id": "zimLhW911aYY",
   "metadata": {
    "id": "zimLhW911aYY"
   },
   "source": [
    "##Decision Tree (Hyperparameter Tuning)"
   ]
  },
  {
   "cell_type": "code",
   "execution_count": null,
   "id": "KFBUea0e1fNa",
   "metadata": {
    "colab": {
     "base_uri": "https://localhost:8080/"
    },
    "id": "KFBUea0e1fNa",
    "outputId": "656d916b-581a-409e-ad2c-67f69ea2825e"
   },
   "outputs": [],
   "source": [
    "from sklearn.model_selection import RandomizedSearchCV, GridSearchCV\n",
    "from scipy.stats import uniform\n",
    "import numpy as np\n",
    "\n",
    "# List of hyperparameter\n",
    "max_depth = [int(x) for x in np.linspace(1, 110, num = 30)] # Maximum number of levels in tree\n",
    "min_samples_split = [2, 5, 10, 100] # Minimum number of samples required to split a node\n",
    "min_samples_leaf = [1, 2, 4, 10, 20, 50] # Minimum number of samples required at each leaf node\n",
    "max_features = ['auto', 'sqrt'] # Number of features to consider at every split\n",
    "criterion = ['gini','entropy']\n",
    "splitter = ['best','random']\n",
    "\n",
    "hyperparameters = dict(max_depth=max_depth, \n",
    "                       min_samples_split=min_samples_split, \n",
    "                       min_samples_leaf=min_samples_leaf,\n",
    "                       max_features=max_features,\n",
    "                       criterion=criterion,\n",
    "                       splitter=splitter\n",
    "                      )\n",
    "\n",
    "# Inisialisasi Model\n",
    "dt = DecisionTreeClassifier(random_state=42)\n",
    "model = GridSearchCV(dt, hyperparameters, cv=5, scoring='precision')\n",
    "model.fit(X_train, y_train)\n",
    "\n",
    "# Predict & Evaluation\n",
    "y_pred = model.predict(X_test)#Check performa dari model\n",
    "eval_classification(model)"
   ]
  },
  {
   "cell_type": "code",
   "execution_count": null,
   "id": "ZocNUWBj9Nk7",
   "metadata": {
    "colab": {
     "base_uri": "https://localhost:8080/"
    },
    "id": "ZocNUWBj9Nk7",
    "outputId": "ac5ba139-f301-406f-8e9b-ea67f97edd2b"
   },
   "outputs": [],
   "source": [
    "print(\"s\")"
   ]
  },
  {
   "cell_type": "code",
   "execution_count": null,
   "id": "QpainBPL_xsJ",
   "metadata": {
    "id": "QpainBPL_xsJ"
   },
   "outputs": [],
   "source": []
  }
 ],
 "metadata": {
  "colab": {
   "provenance": [],
   "toc_visible": true
  },
  "gpuClass": "standard",
  "kernelspec": {
   "display_name": "Python 3 (ipykernel)",
   "language": "python",
   "name": "python3"
  },
  "language_info": {
   "codemirror_mode": {
    "name": "ipython",
    "version": 3
   },
   "file_extension": ".py",
   "mimetype": "text/x-python",
   "name": "python",
   "nbconvert_exporter": "python",
   "pygments_lexer": "ipython3",
   "version": "3.9.7"
  }
 },
 "nbformat": 4,
 "nbformat_minor": 5
}
